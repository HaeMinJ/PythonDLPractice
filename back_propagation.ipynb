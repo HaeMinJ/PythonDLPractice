{
 "cells": [
  {
   "cell_type": "code",
   "execution_count": 13,
   "metadata": {
    "collapsed": true,
    "pycharm": {
     "name": "#%%\n"
    }
   },
   "outputs": [
    {
     "data": {
      "text/plain": "   x1  x2  x3  x4  x5  x6  x7  x8  x9  x10  x11  x12  t1  t2\n0   1   1   1   1   0   1   1   0   1    1    1    1   1   0",
      "text/html": "<div>\n<style scoped>\n    .dataframe tbody tr th:only-of-type {\n        vertical-align: middle;\n    }\n\n    .dataframe tbody tr th {\n        vertical-align: top;\n    }\n\n    .dataframe thead th {\n        text-align: right;\n    }\n</style>\n<table border=\"1\" class=\"dataframe\">\n  <thead>\n    <tr style=\"text-align: right;\">\n      <th></th>\n      <th>x1</th>\n      <th>x2</th>\n      <th>x3</th>\n      <th>x4</th>\n      <th>x5</th>\n      <th>x6</th>\n      <th>x7</th>\n      <th>x8</th>\n      <th>x9</th>\n      <th>x10</th>\n      <th>x11</th>\n      <th>x12</th>\n      <th>t1</th>\n      <th>t2</th>\n    </tr>\n  </thead>\n  <tbody>\n    <tr>\n      <th>0</th>\n      <td>1</td>\n      <td>1</td>\n      <td>1</td>\n      <td>1</td>\n      <td>0</td>\n      <td>1</td>\n      <td>1</td>\n      <td>0</td>\n      <td>1</td>\n      <td>1</td>\n      <td>1</td>\n      <td>1</td>\n      <td>1</td>\n      <td>0</td>\n    </tr>\n  </tbody>\n</table>\n</div>"
     },
     "execution_count": 13,
     "metadata": {},
     "output_type": "execute_result"
    }
   ],
   "source": [
    "import pandas as pd\n",
    "\n",
    "data = pd.read_csv(\"0_1_classification_data.csv\")\n",
    "data[0:1]"
   ]
  },
  {
   "cell_type": "code",
   "execution_count": 14,
   "outputs": [],
   "source": [
    "import numpy as np\n",
    "\n",
    "eta = 0.2\n",
    "\n",
    "w2_1 = np.random.normal(size=12) # 1층에서 2층 1번으로의 가중치 12가지\n",
    "w2_2 = np.random.normal(size=12) # 1층에서 2층 2번으로의 가중치 12가지\n",
    "w2_3 = np.random.normal(size=12) # 1층에서 2층 3번으로의 가중치 12가지\n",
    "w3_1 = np.random.normal(size=3) # 2층에서 3층 1번으로의 가중치 3가지\n",
    "w3_2 = np.random.normal(size=3) # 2층에서 3층 2번으로의 가중치 3가지\n",
    "\n",
    "b2 = np.random.normal(size=3) # 2층 3개 유닛의 편향 3가지\n",
    "b3 = np.random.normal(size=2) # 3층 2개 유닛의 편향 2가지\n"
   ],
   "metadata": {
    "collapsed": false,
    "pycharm": {
     "name": "#%%\n"
    }
   }
  },
  {
   "cell_type": "code",
   "execution_count": 15,
   "outputs": [],
   "source": [
    "def a(z):\n",
    "    return 1 / (1 +np.exp(-z))\n",
    "#시그모이드 함수를 활성화 함수로 사용\n",
    "def ap(z):\n",
    "    return a(z)*(1-a(z))\n",
    "#시그모이드 함수의 미분성질을 이용해 a prime 값을 구한다."
   ],
   "metadata": {
    "collapsed": false,
    "pycharm": {
     "name": "#%%\n"
    }
   }
  },
  {
   "cell_type": "code",
   "execution_count": 16,
   "outputs": [],
   "source": [
    "CT_history = [0]*50\n",
    "\n",
    "\n",
    "\n",
    "for N in range(50): # 경사하강을 50번에 걸쳐 반복한다.\n",
    "\n",
    "    dw2_1 = [0]*12\n",
    "    dw2_2 = [0]*12\n",
    "    dw2_3 = [0]*12\n",
    "    dw3_1 = [0]*3\n",
    "    dw3_2 = [0]*3\n",
    "    db2 = [0]*3\n",
    "    db3 = [0]*3\n",
    "    CT = 0\n",
    "    for idx, items in data.iterrows():\n",
    "\n",
    "        x = items[:12].to_numpy()\n",
    "        t1 = items.t1\n",
    "        t2 = items.t2\n",
    "        # 입력 x와 실젯값 t1, t2\n",
    "\n",
    "        z2_1 = np.dot(w2_1,x)+b2[0]\n",
    "        z2_2 = np.dot(w2_2,x)+b2[1]\n",
    "        z2_3 = np.dot(w2_3,x)+b2[2]\n",
    "        # z 값 ( 2층으로의 입력될 값) 구하기\n",
    "\n",
    "        a2_1 = a(z2_1) # a는 z에 활성화함수.\n",
    "        a2_2 = a(z2_2)\n",
    "        a2_3 = a(z2_3)\n",
    "\n",
    "        a2 = [a2_1,a2_2,a2_3]\n",
    "        # 2층의 a값 구하기\n",
    "        z3_1 = np.dot(w3_1,a2)+b3[0]\n",
    "        z3_2 = np.dot(w3_2,a2)+b3[1]\n",
    "        a3_1 = a(z3_1)\n",
    "        a3_2 = a(z3_2)\n",
    "\n",
    "        a3 = [a3_1,a3_2]\n",
    "        # 3층의 a값 구하기\n",
    "\n",
    "        C = 0.5*( (t1 - a3[0])**2 + (t2 - a3[1])**2 )\n",
    "        CT+= C\n",
    "        # 비용 C 구하기\n",
    "\n",
    "        delta3_1 = (a3[0]-t1) * ap(z3_1) # 시그모이드 함수의 미분 성질을 이용하여 식을 간단히 정리\n",
    "        delta3_2 = (a3[1]-t2) * ap(z3_2)\n",
    "        delta3 = [delta3_1, delta3_2]\n",
    "        #delta 마지막 항 구하기\n",
    "\n",
    "        delta2_1 = np.dot(delta3,[w3_1[0],w3_2[0]] ) * ap(z2_1)\n",
    "        delta2_2 = np.dot(delta3,[w3_1[1],w3_2[1]] ) * ap(z2_2)\n",
    "        delta2_3 = np.dot(delta3,[w3_1[2],w3_2[2]] ) * ap(z2_3)\n",
    "        delta2 = [delta2_1, delta2_2, delta2_3]\n",
    "        #3층의 delta 를 이용해 오차역전파법으로 2층의 delta 구하기\n",
    "\n",
    "        for i in range(12):\n",
    "            dw2_1[i] += delta2_1*x[i]\n",
    "            dw2_2[i] += delta2_2*x[i]\n",
    "            dw2_3[i] += delta2_3*x[i]\n",
    "        #1층에서 2층으로의 36가지 가중치 편미분 값을 더해서 저장해둔다.\n",
    "\n",
    "        for i in range(3):\n",
    "            dw3_1[i] += delta3_1*a2[i]\n",
    "            dw3_2[i] += delta3_2*a2[i]\n",
    "        #3층에서 2층으로의 6가지 가중치 편미분 값을 더해서 저장해둔다.\n",
    "\n",
    "        db2[0] += delta2_1\n",
    "        db2[1] += delta2_2\n",
    "        db2[2] += delta2_3\n",
    "        db3[0] += delta3_1\n",
    "        db3[1] += delta3_2\n",
    "        #2층, 3층 5개 유닛의 편향 편미분 값을 더해서 저장해둔다.\n",
    "    CT_history[N]= CT # 비용의 합을 저장해둔다.\n",
    "\n",
    "#64개 데이터에 대해 모든 편미분값들의 합을 구한 후, 이에 학습률을 곱하여 가중치와 편향들을 변화시킨다.\n",
    "    for i in range(12):\n",
    "        w2_1[i] += -eta*dw2_1[i]\n",
    "        w2_2[i] += -eta*dw2_2[i]\n",
    "        w2_3[i] += -eta*dw2_3[i]\n",
    "        #1층에서 2층으로의 36가지 가중치를 정답에 가까운 곳으로 변화시킨다.\n",
    "\n",
    "    for i in range(3):\n",
    "        w3_1[i] += -eta*dw3_1[i]\n",
    "        w3_2[i] += -eta*dw3_2[i]\n",
    "        #3층에서 2층으로의 6가지 가중치를 정답에 가까운 곳으로 변화시킨다.\n",
    "\n",
    "    b2[0] += -eta*b2[0]\n",
    "    b2[1] += -eta*b2[1]\n",
    "    b2[2] += -eta*b2[2]\n",
    "    b3[0] += -eta*b3[0]\n",
    "    b3[1] += -eta*b3[1]\n",
    "    #2층, 3층 5개 유닛의 편향을 정답에 가까운 곳으로 변화시킨다.\n"
   ],
   "metadata": {
    "collapsed": false,
    "pycharm": {
     "name": "#%%\n"
    }
   }
  },
  {
   "cell_type": "code",
   "execution_count": 17,
   "outputs": [
    {
     "data": {
      "text/plain": "<Figure size 432x288 with 1 Axes>",
      "image/png": "[encoded data removed]"
     },
     "metadata": {
      "needs_background": "light"
     },
     "output_type": "display_data"
    }
   ],
   "source": [
    "import matplotlib.pyplot as plt\n",
    "\n",
    "plt.plot(CT_history)\n",
    "plt.show()"
   ],
   "metadata": {
    "collapsed": false,
    "pycharm": {
     "name": "#%%\n"
    }
   }
  },
  {
   "cell_type": "code",
   "execution_count": 18,
   "outputs": [
    {
     "name": "stdout",
     "output_type": "stream",
     "text": [
      "0.9739163763583227\n",
      "0.02718914252012758\n"
     ]
    }
   ],
   "source": [
    "test = [\n",
    "        0,1,0,\n",
    "        1,0,1,\n",
    "        1,0,1,\n",
    "        1,0,1\n",
    "       ]\n",
    "x = test\n",
    "# 입력 x와 실젯값 t1, t2\n",
    "z2_1 = np.dot(w2_1,x)+b2[0]\n",
    "z2_2 = np.dot(w2_2,x)+b2[1]\n",
    "z2_3 = np.dot(w2_3,x)+b2[2]\n",
    "# z 값 ( 2층으로의 입력될 값) 구하기\n",
    "\n",
    "a2_1 = a(z2_1) # a는 z에 활성화함수.\n",
    "a2_2 = a(z2_2)\n",
    "a2_3 = a(z2_3)\n",
    "\n",
    "a2 = [a2_1,a2_2,a2_3]\n",
    "# 2층의 a값 구하기\n",
    "z3_1 = np.dot(w3_1,a2)+b3[0]\n",
    "z3_2 = np.dot(w3_2,a2)+b3[1]\n",
    "a3_1 = a(z3_1)\n",
    "a3_2 = a(z3_2)\n",
    "\n",
    "print(a3_1)\n",
    "print(a3_2)"
   ],
   "metadata": {
    "collapsed": false,
    "pycharm": {
     "name": "#%%\n"
    }
   }
  }
 ],
 "metadata": {
  "kernelspec": {
   "display_name": "Python 3",
   "language": "python",
   "name": "python3"
  },
  "language_info": {
   "codemirror_mode": {
    "name": "ipython",
    "version": 2
   },
   "file_extension": ".py",
   "mimetype": "text/x-python",
   "name": "python",
   "nbconvert_exporter": "python",
   "pygments_lexer": "ipython2",
   "version": "2.7.6"
  }
 },
 "nbformat": 4,
 "nbformat_minor": 0
}